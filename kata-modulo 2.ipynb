{
 "cells": [
  {
   "cell_type": "markdown",
   "metadata": {},
   "source": [
    "# Crear entorno virtual\n",
    "\n",
    "<img src = 'kata 2_1.png'>\n",
    "\n",
    "# Instalar una biblioteca\n",
    "\n",
    "<img src = 'kata 2_2.png'>\n",
    "\n",
    "# Desactivar entorno virtual\n",
    "\n",
    "<img src = 'kata 2_3.png'>"
   ]
  }
 ],
 "metadata": {
  "language_info": {
   "name": "python"
  },
  "orig_nbformat": 4
 },
 "nbformat": 4,
 "nbformat_minor": 2
}
