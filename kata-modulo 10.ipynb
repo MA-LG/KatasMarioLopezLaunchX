{
 "cells": [
  {
   "cell_type": "markdown",
   "metadata": {},
   "source": [
    "# Excepciones\n",
    "\n",
    "## Ejercicio 1\n",
    "\n",
    "<img src='Ejercicio_1.png'>\n",
    "\n",
    "## Ejercicio 2\n",
    "\n",
    "<img src='Ejercicio_2.png'>\n"
   ]
  }
 ],
 "metadata": {
  "interpreter": {
   "hash": "d852074cd492bad93834d70e84ce445e7455291a4278253607ab8f6dbaa69cbe"
  },
  "kernelspec": {
   "display_name": "Python 3.10.2 64-bit",
   "language": "python",
   "name": "python3"
  },
  "language_info": {
   "name": "python",
   "version": "3.10.2"
  },
  "orig_nbformat": 4
 },
 "nbformat": 4,
 "nbformat_minor": 2
}
